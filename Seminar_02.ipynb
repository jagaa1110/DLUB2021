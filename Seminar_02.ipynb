{
  "nbformat": 4,
  "nbformat_minor": 0,
  "metadata": {
    "colab": {
      "name": "Untitled0.ipynb",
      "provenance": [],
      "authorship_tag": "ABX9TyOD02bmv8NC7+vcAQP67W62",
      "include_colab_link": true
    },
    "kernelspec": {
      "name": "python3",
      "display_name": "Python 3"
    },
    "language_info": {
      "name": "python"
    }
  },
  "cells": [
    {
      "cell_type": "markdown",
      "metadata": {
        "id": "view-in-github",
        "colab_type": "text"
      },
      "source": [
        "<a href=\"https://colab.research.google.com/github/jagaa1110/DLUB2021/blob/main/Seminar_02.ipynb\" target=\"_parent\"><img src=\"https://colab.research.google.com/assets/colab-badge.svg\" alt=\"Open In Colab\"/></a>"
      ]
    },
    {
      "cell_type": "code",
      "metadata": {
        "colab": {
          "base_uri": "https://localhost:8080/",
          "height": 282
        },
        "id": "15RD0Xg2eHLK",
        "outputId": "eb286760-b1f0-498b-b235-d944ec1fde69"
      },
      "source": [
        "import numpy as np\n",
        "from  matplotlib import pyplot as plt\n",
        "\n",
        "##Ugugdluu beldej bga\n",
        "## 100 shirheg X, y uusgej bga\n",
        "# y = 2x + 10\n",
        "# w 2\n",
        "# b 10\n",
        "X = np.random.normal(0, 1, 100 )*10\n",
        "y = 2*X + np.random.normal(0, 3, 100 ) + 10\n",
        "plt.plot(X, y, \"o\")"
      ],
      "execution_count": 81,
      "outputs": [
        {
          "output_type": "execute_result",
          "data": {
            "text/plain": [
              "[<matplotlib.lines.Line2D at 0x7f24a0611b50>]"
            ]
          },
          "metadata": {
            "tags": []
          },
          "execution_count": 81
        },
        {
          "output_type": "display_data",
          "data": {
            "image/png": "[encoded data removed]",
            "text/plain": [
              "<Figure size 432x288 with 1 Axes>"
            ]
          },
          "metadata": {
            "tags": [],
            "needs_background": "light"
          }
        }
      ]
    },
    {
      "cell_type": "code",
      "metadata": {
        "id": "HjjlKF1ifdwz"
      },
      "source": [
        "##Zagwaraa beldey\n",
        "# y = w*x + b\n",
        "# x = \n",
        "class LinearRegress():\n",
        "  def __init__(self, learning_rate):\n",
        "    self.w = np.random.rand(1)\n",
        "    self.b = np.random.rand()\n",
        "    self.learning_rate = learning_rate\n",
        "\n",
        "  def forward(self, x):\n",
        "    #y = w*x + b\n",
        "    y_pred = self.w*x + self.b\n",
        "    return y_pred\n",
        "\n",
        "  def get_params(self):\n",
        "    print(\"w: \" + str(self.w))\n",
        "    print(\"b: \" + str(self.b))\n",
        "    print(\"lr: \" + str(self.learning_rate))\n",
        "\n",
        "  def get_loss(self, x, y):\n",
        "    y_pred = self.forward(x)\n",
        "     # S = sum(y_pred - y)*2/len(y)\n",
        "    S = np.sum((y_pred - y)**2) / len(x)\n",
        "    return S\n",
        "\n",
        "  def get_grad(self, y, x):\n",
        "    y_pred = self.forward(x)\n",
        "    #grad_w = (y_pred - y)*x\n",
        "    grad_w = np.sum(x.dot((y_pred - y)))/len(x)\n",
        "    #grad_b = y_pred - y\n",
        "    grad_b = np.sum(y_pred - y)/len(x)\n",
        "    return grad_w, grad_b\n",
        "\n",
        "  # Optimization algorithm --- gradient descent\n",
        "  # w <- w - learning_data * grad_w\n",
        "  # b <- b - learning_data * grad_b\n",
        "  def backward(self, grad_w, grad_b):\n",
        "    self.w = self.w - self.learning_rate * grad_w\n",
        "    self.b = self.b - self.learning_rate * grad_b"
      ],
      "execution_count": 82,
      "outputs": []
    },
    {
      "cell_type": "code",
      "metadata": {
        "colab": {
          "base_uri": "https://localhost:8080/",
          "height": 315
        },
        "id": "PgadNTbwgAEv",
        "outputId": "d432321f-0e0e-462e-c950-6778bcbe0b2b"
      },
      "source": [
        "##Zagwariin instance-g uusgeh\n",
        "model = LinearRegress(0.01)\n",
        "model.get_params()\n",
        "\n",
        "plt.scatter(X, y)\n",
        "x_l = np.array([-30, 30])\n",
        "y_l = model.w*x_l + model.b\n",
        "plt.plot(x_l, y_l, 'r')\n",
        "plt.show()"
      ],
      "execution_count": 83,
      "outputs": [
        {
          "output_type": "stream",
          "text": [
            "w: [0.68800586]\n",
            "b: 0.05641739730429485\n",
            "lr: 0.01\n"
          ],
          "name": "stdout"
        },
        {
          "output_type": "display_data",
          "data": {
            "image/png": "[encoded data removed]",
            "text/plain": [
              "<Figure size 432x288 with 1 Axes>"
            ]
          },
          "metadata": {
            "tags": [],
            "needs_background": "light"
          }
        }
      ]
    },
    {
      "cell_type": "code",
      "metadata": {
        "colab": {
          "base_uri": "https://localhost:8080/"
        },
        "id": "zHzaBbEOgSMv",
        "outputId": "1a79edc7-01d3-40cf-909b-d15fa5f3e347"
      },
      "source": [
        "#Zagwartaa ugugdul awch uzey\n",
        "y_pred = model.forward(X)\n",
        "model.get_params()\n",
        "print(X[:10])\n",
        "print(y_pred[:10])"
      ],
      "execution_count": 84,
      "outputs": [
        {
          "output_type": "stream",
          "text": [
            "w: [0.68800586]\n",
            "b: 0.05641739730429485\n",
            "lr: 0.01\n",
            "[-22.46327475   3.99705162   0.58657034  -4.30501453  17.97978093\n",
            "   9.8410698    6.92596907   2.73224412 -16.70394606 -17.47110397]\n",
            "[-15.39844736   2.80641235   0.45998123  -2.90545784  12.42661212\n",
            "   6.82713113   4.82152473   1.93621738 -11.43599545 -11.96380459]\n"
          ],
          "name": "stdout"
        }
      ]
    },
    {
      "cell_type": "code",
      "metadata": {
        "id": "OtWoApUSgS7p"
      },
      "source": [
        "# Zagwaraa surgah\n",
        "#print(\"gradient descentiin umnu\")\n",
        "#model.get_params()\n",
        "#grad_w, grad_b = model.get_grad(X, y)\n",
        "#model.backward(grad_w, grad_b)\n",
        "#print(\"gradient descentiin daraa\")\n",
        "#model.get_params()"
      ],
      "execution_count": 54,
      "outputs": []
    },
    {
      "cell_type": "code",
      "metadata": {
        "colab": {
          "base_uri": "https://localhost:8080/",
          "height": 559
        },
        "id": "-MBPgAXUgTC2",
        "outputId": "9847fa24-f7ce-49b8-d95c-56412f84acf3"
      },
      "source": [
        "# Zagwaraa surgah\n",
        "model.get_params()\n",
        "epoch = 100\n",
        "losses = list()\n",
        "\n",
        "for i in range(epoch):\n",
        "  grad_w, grad_b = model.get_grad(X, y) \n",
        "  model.backward(grad_w, grad_b)\n",
        "  loss = model.get_loss(X, y)\n",
        "  losses.append(loss)\n",
        "  if i % 10 == 0:\n",
        "    print(i, loss)\n",
        "\n",
        "plt.plot(range(epoch), losses)\n",
        "plt.ylabel(\"Loss\")\n",
        "plt.xlabel(\"Epoch\")\n",
        "plt.show()\n",
        "model.get_params()"
      ],
      "execution_count": 79,
      "outputs": [
        {
          "output_type": "stream",
          "text": [
            "w: [0.54067546]\n",
            "b: 0.17435275690108687\n",
            "lr: 0.01\n",
            "0 783.431858097345\n",
            "10 4731397047346024.0\n",
            "20 3.439985371072418e+29\n",
            "30 2.5010594977825624e+43\n",
            "40 1.8184084920973523e+57\n",
            "50 1.3220834798466049e+71\n",
            "60 9.61227763332361e+84\n",
            "70 6.988657124042838e+98\n",
            "80 5.081140002460262e+112\n",
            "90 3.694269623813876e+126\n"
          ],
          "name": "stdout"
        },
        {
          "output_type": "display_data",
          "data": {
            "image/png": "[encoded data removed]",
            "text/plain": [
              "<Figure size 432x288 with 1 Axes>"
            ]
          },
          "metadata": {
            "tags": [],
            "needs_background": "light"
          }
        },
        {
          "output_type": "stream",
          "text": [
            "w: [3.17271974e+68]\n",
            "b: 6.91256630285e+66\n",
            "lr: 0.01\n"
          ],
          "name": "stdout"
        }
      ]
    },
    {
      "cell_type": "code",
      "metadata": {
        "colab": {
          "base_uri": "https://localhost:8080/",
          "height": 276
        },
        "id": "diSj6ZAqrzUR",
        "outputId": "775b9ecf-a188-42d2-bfa3-504b6797b847"
      },
      "source": [
        "# y = model.w*x + model.b\n",
        "plt.scatter(X, y)\n",
        "x_l = np.array([-30, 30])\n",
        "y_l = model.w*x_l + model.b\n",
        "plt.plot(x_l, y_l, 'r')\n",
        "plt.show()\n"
      ],
      "execution_count": 80,
      "outputs": [
        {
          "output_type": "display_data",
          "data": {
            "image/png": "[encoded data removed]",
            "text/plain": [
              "<Figure size 432x288 with 1 Axes>"
            ]
          },
          "metadata": {
            "tags": [],
            "needs_background": "light"
          }
        }
      ]
    }
  ]
}